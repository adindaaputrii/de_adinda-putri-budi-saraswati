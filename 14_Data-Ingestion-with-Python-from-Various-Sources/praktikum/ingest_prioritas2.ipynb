{
 "cells": [
  {
   "cell_type": "markdown",
   "metadata": {},
   "source": [
    "## Prioritas 2"
   ]
  },
  {
   "cell_type": "markdown",
   "metadata": {},
   "source": [
    "### 1. Import Library"
   ]
  },
  {
   "cell_type": "code",
   "execution_count": null,
   "metadata": {},
   "outputs": [],
   "source": [
    "import requests\n",
    "from bs4 import BeautifulSoup\n",
    "import pandas as pd"
   ]
  },
  {
   "cell_type": "markdown",
   "metadata": {},
   "source": [
    "## 2. Scrapping Web"
   ]
  },
  {
   "cell_type": "code",
   "execution_count": null,
   "metadata": {},
   "outputs": [],
   "source": [
    "url = \"https://www.sociolla.com/lip-balm/27453-lip-therapy-balm-stick\"\n",
    "\n",
    "#HTTP req ke URL\n",
    "response = requests.get(url)\n",
    "\n",
    "#parse HTML\n",
    "soup = BeautifulSoup(response.content, 'html.parser')\n",
    "\n",
    "ulasan = soup.find_all(\"div\", class_=\"review-content\")\n",
    "\n",
    "#loop melalui setiap elemen ulasan\n",
    "data_ulasan = []\n",
    "for ulasan in soup.find_all('div', class_='shopper-review__item'):\n",
    "    # Ekstrak data ulasan\n",
    "    rating = ulasan.find('span', class_='shopper-review__rating-score').text.strip()\n",
    "    teks_ulasan = ulasan.find('div', class_='shopper-review__content').text.strip()\n",
    "    tanggal_ulasan = ulasan.find('time', class_='shopper-review__date').text.strip()\n",
    "    nama_pengguna = ulasan.find('span', class_='shopper-review__author-name').text.strip()\n",
    "\n",
    "    #menyimpan data ulasan ke dalam dictionary\n",
    "    data_ulasan.append({\n",
    "        'rating': rating,\n",
    "        'teks_ulasan': teks_ulasan,\n",
    "        'tanggal_ulasan': tanggal_ulasan,\n",
    "        'nama_pengguna': nama_pengguna\n",
    "    })\n",
    "\n",
    "#ubah data ulasan ke DataFrame Pandas\n",
    "df_ulasan = pd.DataFrame(data_ulasan)\n",
    "\n",
    "print(df_ulasan)  # Cetak ke konsol\n",
    "df_ulasan.to_csv('review.csv', index=False)  #simpan ke file CSV\n"
   ]
  }
 ],
 "metadata": {
  "kernelspec": {
   "display_name": "Python 3",
   "language": "python",
   "name": "python3"
  },
  "language_info": {
   "codemirror_mode": {
    "name": "ipython",
    "version": 3
   },
   "file_extension": ".py",
   "mimetype": "text/x-python",
   "name": "python",
   "nbconvert_exporter": "python",
   "pygments_lexer": "ipython3",
   "version": "3.11.4"
  }
 },
 "nbformat": 4,
 "nbformat_minor": 2
}
