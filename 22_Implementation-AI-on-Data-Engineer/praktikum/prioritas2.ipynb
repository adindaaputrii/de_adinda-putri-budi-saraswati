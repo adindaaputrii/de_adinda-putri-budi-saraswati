{
 "cells": [
  {
   "cell_type": "code",
   "execution_count": 2,
   "metadata": {},
   "outputs": [],
   "source": [
    "import pandas as pd\n",
    "import os\n",
    "import google.generativeai as genai\n",
    "from dotenv import load_dotenv"
   ]
  },
  {
   "cell_type": "code",
   "execution_count": 12,
   "metadata": {},
   "outputs": [
    {
     "name": "stdout",
     "output_type": "stream",
     "text": [
      "```sql\n",
      "SELECT \n",
      "    kategori_produk,\n",
      "    SUM(jumlah_penjualan * harga) AS total_penjualan\n",
      "FROM penjualan\n",
      "WHERE \n",
      "    tanggal_transaksi BETWEEN '2028-01-01' AND '2028-01-31'\n",
      "GROUP BY \n",
      "    kategori_produk;\n",
      "```\n"
     ]
    }
   ],
   "source": [
    "load_dotenv()\n",
    "gemini_api_key = os.getenv('API_KEY')\n",
    "\n",
    "genai.configure(api_key=gemini_api_key)\n",
    "model = genai.GenerativeModel('gemini-pro')\n",
    "\n",
    "prompt = f\"Aku memiliki tabel penjualan dengan atribut tanggal_transaksi, jumlah_penjualan, harga, dan kategori_produk. Buatkan query sql untuk menghitung total penjualan per kategori produk pada bulan januari 2028.\"\n",
    "response = model.generate_content(prompt)\n",
    "\n",
    "print(response.text)"
   ]
  }
 ],
 "metadata": {
  "kernelspec": {
   "display_name": "Python 3",
   "language": "python",
   "name": "python3"
  },
  "language_info": {
   "codemirror_mode": {
    "name": "ipython",
    "version": 3
   },
   "file_extension": ".py",
   "mimetype": "text/x-python",
   "name": "python",
   "nbconvert_exporter": "python",
   "pygments_lexer": "ipython3",
   "version": "3.11.4"
  }
 },
 "nbformat": 4,
 "nbformat_minor": 2
}
