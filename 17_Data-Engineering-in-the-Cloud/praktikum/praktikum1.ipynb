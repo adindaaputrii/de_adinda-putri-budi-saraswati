{
 "cells": [
  {
   "cell_type": "code",
   "execution_count": 15,
   "metadata": {},
   "outputs": [],
   "source": [
    "import pandas as pd\n",
    "import numpy as np\n",
    "import json"
   ]
  },
  {
   "cell_type": "code",
   "execution_count": 14,
   "metadata": {},
   "outputs": [],
   "source": [
    "#prioritas 1 no 1\n",
    "data = pd.read_csv('survey.csv')\n",
    "data['age'] = data['age'].astype(str)\n",
    "data['age'] = data['age'].replace('-', np.nan)\n",
    "data['favorite_front_end'] = data['favorite_front_end'].replace('-',np.nan)\n",
    "data = data.drop_duplicates()\n",
    "data = data.dropna()\n",
    "data.to_csv('cleaned_survey.csv')\n"
   ]
  },
  {
   "cell_type": "code",
   "execution_count": 17,
   "metadata": {},
   "outputs": [],
   "source": [
    "#prioritas 1 no 2\n",
    "data_transaksi = pd.read_json('https://gist.githubusercontent.com/nadirbslmh/8fc9cc6cd5cbaaf5cbff63b090fb497e/raw/a7bf3e1edab88b04314a40a9de3ed744bc86d0e9/ecommerce.json')\n",
    "filtered_data = data_transaksi[(data_transaksi['payment_method'] == 'credit card') & (data_transaksi['status'] == 'success')]\n",
    "filtered_data.to_csv('credit_card_success.csv')"
   ]
  },
  {
   "cell_type": "code",
   "execution_count": null,
   "metadata": {},
   "outputs": [],
   "source": []
  }
 ],
 "metadata": {
  "kernelspec": {
   "display_name": "Python 3",
   "language": "python",
   "name": "python3"
  },
  "language_info": {
   "codemirror_mode": {
    "name": "ipython",
    "version": 3
   },
   "file_extension": ".py",
   "mimetype": "text/x-python",
   "name": "python",
   "nbconvert_exporter": "python",
   "pygments_lexer": "ipython3",
   "version": "3.11.4"
  }
 },
 "nbformat": 4,
 "nbformat_minor": 2
}
